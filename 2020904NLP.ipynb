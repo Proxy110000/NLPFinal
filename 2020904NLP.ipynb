{
 "cells": [
  {
   "cell_type": "code",
   "execution_count": 43,
   "id": "c94b2501",
   "metadata": {},
   "outputs": [],
   "source": [
    "import pandas as pd\n",
    "import numpy as np\n",
    "import matplotlib.pyplot as plt\n",
    "import re\n",
    "import nltk\n",
    "from nltk.tokenize import word_tokenize\n",
    "from nltk.corpus import stopwords\n",
    "from nltk.stem import PorterStemmer\n",
    "from nltk.stem.wordnet import WordNetLemmatizer\n",
    "from nltk.probability import FreqDist\n",
    "from nltk.util import ngrams\n",
    "from wordcloud import WordCloud\n",
    "from collections import Counter\n",
    "from transformers import AutoTokenizer, AutoModelForSequenceClassification\n",
    "from scipy.special import softmax\n",
    "import twint\n",
    "import nest_asyncio\n",
    "import datetime as dt\n",
    "import seaborn as sns\n",
    "from textblob import TextBlob\n",
    "from nltk import pos_tag\n",
    "from nltk import sent_tokenize\n",
    "from sklearn.feature_extraction.text import TfidfVectorizer"
   ]
  },
  {
   "cell_type": "code",
   "execution_count": 2,
   "id": "b1944469",
   "metadata": {},
   "outputs": [
    {
     "name": "stdout",
     "output_type": "stream",
     "text": [
      "Requirement already satisfied: wordcloud in /opt/anaconda3/lib/python3.9/site-packages (1.9.1.1)\n",
      "Requirement already satisfied: pillow in /opt/anaconda3/lib/python3.9/site-packages (from wordcloud) (9.4.0)\n",
      "Requirement already satisfied: numpy>=1.6.1 in /opt/anaconda3/lib/python3.9/site-packages (from wordcloud) (1.24.1)\n",
      "Requirement already satisfied: matplotlib in /opt/anaconda3/lib/python3.9/site-packages (from wordcloud) (3.5.2)\n",
      "Requirement already satisfied: fonttools>=4.22.0 in /opt/anaconda3/lib/python3.9/site-packages (from matplotlib->wordcloud) (4.25.0)\n",
      "Requirement already satisfied: cycler>=0.10 in /opt/anaconda3/lib/python3.9/site-packages (from matplotlib->wordcloud) (0.11.0)\n",
      "Requirement already satisfied: kiwisolver>=1.0.1 in /opt/anaconda3/lib/python3.9/site-packages (from matplotlib->wordcloud) (1.4.4)\n",
      "Requirement already satisfied: packaging>=20.0 in /opt/anaconda3/lib/python3.9/site-packages (from matplotlib->wordcloud) (23.0)\n",
      "Requirement already satisfied: pyparsing>=2.2.1 in /opt/anaconda3/lib/python3.9/site-packages (from matplotlib->wordcloud) (3.0.9)\n",
      "Requirement already satisfied: python-dateutil>=2.7 in /opt/anaconda3/lib/python3.9/site-packages (from matplotlib->wordcloud) (2.8.2)\n",
      "Requirement already satisfied: six>=1.5 in /opt/anaconda3/lib/python3.9/site-packages (from python-dateutil>=2.7->matplotlib->wordcloud) (1.16.0)\n",
      "Requirement already satisfied: textblob in /opt/anaconda3/lib/python3.9/site-packages (0.17.1)\n",
      "Requirement already satisfied: nltk>=3.1 in /opt/anaconda3/lib/python3.9/site-packages (from textblob) (3.7)\n",
      "Requirement already satisfied: click in /opt/anaconda3/lib/python3.9/site-packages (from nltk>=3.1->textblob) (8.0.4)\n",
      "Requirement already satisfied: regex>=2021.8.3 in /opt/anaconda3/lib/python3.9/site-packages (from nltk>=3.1->textblob) (2022.7.9)\n",
      "Requirement already satisfied: joblib in /opt/anaconda3/lib/python3.9/site-packages (from nltk>=3.1->textblob) (1.1.1)\n",
      "Requirement already satisfied: tqdm in /opt/anaconda3/lib/python3.9/site-packages (from nltk>=3.1->textblob) (4.65.0)\n"
     ]
    }
   ],
   "source": [
    "!pip install wordcloud\n",
    "!pip install textblob"
   ]
  },
  {
   "cell_type": "code",
   "execution_count": 3,
   "id": "ff2e9629",
   "metadata": {},
   "outputs": [
    {
     "name": "stdout",
     "output_type": "stream",
     "text": [
      "Requirement already satisfied: scipy in /opt/anaconda3/lib/python3.9/site-packages (1.9.1)\r\n",
      "Requirement already satisfied: numpy<1.25.0,>=1.18.5 in /opt/anaconda3/lib/python3.9/site-packages (from scipy) (1.24.1)\r\n"
     ]
    }
   ],
   "source": [
    "!pip3 install scipy"
   ]
  },
  {
   "cell_type": "code",
   "execution_count": 4,
   "id": "bda06756",
   "metadata": {},
   "outputs": [
    {
     "name": "stderr",
     "output_type": "stream",
     "text": [
      "[nltk_data] Downloading package punkt to /Users/student/nltk_data...\n",
      "[nltk_data]   Package punkt is already up-to-date!\n",
      "[nltk_data] Downloading package stopwords to\n",
      "[nltk_data]     /Users/student/nltk_data...\n",
      "[nltk_data]   Package stopwords is already up-to-date!\n"
     ]
    },
    {
     "data": {
      "text/plain": [
       "True"
      ]
     },
     "execution_count": 4,
     "metadata": {},
     "output_type": "execute_result"
    }
   ],
   "source": [
    "nltk.download('punkt')\n",
    "nltk.download('stopwords')"
   ]
  },
  {
   "cell_type": "code",
   "execution_count": null,
   "id": "26a39f81",
   "metadata": {},
   "outputs": [],
   "source": []
  },
  {
   "cell_type": "code",
   "execution_count": 5,
   "id": "fc4f9876",
   "metadata": {},
   "outputs": [],
   "source": [
    "tweet = pd.read_csv(\"tweets.csv\", dtype = \"string\")"
   ]
  },
  {
   "cell_type": "code",
   "execution_count": 6,
   "id": "68e823af",
   "metadata": {},
   "outputs": [],
   "source": [
    "tweet_data = tweet.head(696)"
   ]
  },
  {
   "cell_type": "code",
   "execution_count": 7,
   "id": "f916eb19",
   "metadata": {},
   "outputs": [
    {
     "data": {
      "text/html": [
       "<div>\n",
       "<style scoped>\n",
       "    .dataframe tbody tr th:only-of-type {\n",
       "        vertical-align: middle;\n",
       "    }\n",
       "\n",
       "    .dataframe tbody tr th {\n",
       "        vertical-align: top;\n",
       "    }\n",
       "\n",
       "    .dataframe thead th {\n",
       "        text-align: right;\n",
       "    }\n",
       "</style>\n",
       "<table border=\"1\" class=\"dataframe\">\n",
       "  <thead>\n",
       "    <tr style=\"text-align: right;\">\n",
       "      <th></th>\n",
       "      <th>user_name</th>\n",
       "      <th>text</th>\n",
       "      <th>user_location</th>\n",
       "      <th>user_description</th>\n",
       "      <th>user_created</th>\n",
       "      <th>user_followers</th>\n",
       "      <th>user_friends</th>\n",
       "      <th>user_favourites</th>\n",
       "      <th>user_verified</th>\n",
       "      <th>date</th>\n",
       "      <th>hashtags</th>\n",
       "      <th>source</th>\n",
       "    </tr>\n",
       "  </thead>\n",
       "  <tbody>\n",
       "    <tr>\n",
       "      <th>0</th>\n",
       "      <td>Bohmle</td>\n",
       "      <td>#GPT4 for FREE. \n",
       "No its not a clickbait, @Qola...</td>\n",
       "      <td>Carkingga</td>\n",
       "      <td>&lt;NA&gt;</td>\n",
       "      <td>&lt;NA&gt;</td>\n",
       "      <td>&lt;NA&gt;</td>\n",
       "      <td>&lt;NA&gt;</td>\n",
       "      <td>&lt;NA&gt;</td>\n",
       "      <td>&lt;NA&gt;</td>\n",
       "      <td>&lt;NA&gt;</td>\n",
       "      <td>&lt;NA&gt;</td>\n",
       "      <td>&lt;NA&gt;</td>\n",
       "    </tr>\n",
       "    <tr>\n",
       "      <th>1</th>\n",
       "      <td>&lt;NA&gt;</td>\n",
       "      <td>AI enthusiast</td>\n",
       "      <td>2019-07-03 03:44:41+00:00</td>\n",
       "      <td>60.0</td>\n",
       "      <td>349.0</td>\n",
       "      <td>611</td>\n",
       "      <td>False</td>\n",
       "      <td>2023-05-17 18:11:12+00:00</td>\n",
       "      <td>['GPT4', 'ChatGPT4']</td>\n",
       "      <td>Twitter Web App</td>\n",
       "      <td>&lt;NA&gt;</td>\n",
       "      <td>&lt;NA&gt;</td>\n",
       "    </tr>\n",
       "    <tr>\n",
       "      <th>2</th>\n",
       "      <td>Dan Bruno AI</td>\n",
       "      <td>ChatGPT Thinks These 5 Crypto Coins Will Explo...</td>\n",
       "      <td>Manchester, NH</td>\n",
       "      <td>The latest in #ChatGPT, #BARD, #Bing, and othe...</td>\n",
       "      <td>2021-05-19 01:19:32+00:00</td>\n",
       "      <td>470.0</td>\n",
       "      <td>157.0</td>\n",
       "      <td>5185</td>\n",
       "      <td>False</td>\n",
       "      <td>2023-05-17 18:11:03+00:00</td>\n",
       "      <td>['chatgpt', 'AI', 'openAI']</td>\n",
       "      <td>dlvr.it</td>\n",
       "    </tr>\n",
       "    <tr>\n",
       "      <th>3</th>\n",
       "      <td>Georgiana Comsa</td>\n",
       "      <td>New: @JWVance's post about 5 #startups (includ...</td>\n",
       "      <td>Palo Alto</td>\n",
       "      <td>Founder of Silicon Valley PR, award-winning PR...</td>\n",
       "      <td>2008-12-24 09:32:23+00:00</td>\n",
       "      <td>3864.0</td>\n",
       "      <td>1883.0</td>\n",
       "      <td>2415</td>\n",
       "      <td>False</td>\n",
       "      <td>2023-05-17 18:10:25+00:00</td>\n",
       "      <td>['startups', 'startup50']</td>\n",
       "      <td>Twitter Web App</td>\n",
       "    </tr>\n",
       "    <tr>\n",
       "      <th>4</th>\n",
       "      <td>Bitone Great</td>\n",
       "      <td>🚨Get Out!🚨\n",
       "💰#Binance Spot💰\n",
       "⬇ Recommendation: #...</td>\n",
       "      <td>Hong Kong</td>\n",
       "      <td>#ChatGPT (AI) powered Free Trading Signal! \n",
       "Le...</td>\n",
       "      <td>2022-11-21 04:42:18+00:00</td>\n",
       "      <td>1517.0</td>\n",
       "      <td>506.0</td>\n",
       "      <td>64</td>\n",
       "      <td>False</td>\n",
       "      <td>2023-05-17 18:09:39+00:00</td>\n",
       "      <td>['Binance', 'Short', 'GHSTUSDT']</td>\n",
       "      <td>rsi1</td>\n",
       "    </tr>\n",
       "  </tbody>\n",
       "</table>\n",
       "</div>"
      ],
      "text/plain": [
       "         user_name                                               text  \\\n",
       "0           Bohmle  #GPT4 for FREE. \n",
       "No its not a clickbait, @Qola...   \n",
       "1             <NA>                                      AI enthusiast   \n",
       "2     Dan Bruno AI  ChatGPT Thinks These 5 Crypto Coins Will Explo...   \n",
       "3  Georgiana Comsa  New: @JWVance's post about 5 #startups (includ...   \n",
       "4     Bitone Great  🚨Get Out!🚨\n",
       "💰#Binance Spot💰\n",
       "⬇ Recommendation: #...   \n",
       "\n",
       "               user_location  \\\n",
       "0                  Carkingga   \n",
       "1  2019-07-03 03:44:41+00:00   \n",
       "2             Manchester, NH   \n",
       "3                  Palo Alto   \n",
       "4                  Hong Kong   \n",
       "\n",
       "                                    user_description  \\\n",
       "0                                               <NA>   \n",
       "1                                               60.0   \n",
       "2  The latest in #ChatGPT, #BARD, #Bing, and othe...   \n",
       "3  Founder of Silicon Valley PR, award-winning PR...   \n",
       "4  #ChatGPT (AI) powered Free Trading Signal! \n",
       "Le...   \n",
       "\n",
       "                user_created user_followers user_friends  \\\n",
       "0                       <NA>           <NA>         <NA>   \n",
       "1                      349.0            611        False   \n",
       "2  2021-05-19 01:19:32+00:00          470.0        157.0   \n",
       "3  2008-12-24 09:32:23+00:00         3864.0       1883.0   \n",
       "4  2022-11-21 04:42:18+00:00         1517.0        506.0   \n",
       "\n",
       "             user_favourites         user_verified                       date  \\\n",
       "0                       <NA>                  <NA>                       <NA>   \n",
       "1  2023-05-17 18:11:12+00:00  ['GPT4', 'ChatGPT4']            Twitter Web App   \n",
       "2                       5185                 False  2023-05-17 18:11:03+00:00   \n",
       "3                       2415                 False  2023-05-17 18:10:25+00:00   \n",
       "4                         64                 False  2023-05-17 18:09:39+00:00   \n",
       "\n",
       "                           hashtags           source  \n",
       "0                              <NA>             <NA>  \n",
       "1                              <NA>             <NA>  \n",
       "2       ['chatgpt', 'AI', 'openAI']          dlvr.it  \n",
       "3         ['startups', 'startup50']  Twitter Web App  \n",
       "4  ['Binance', 'Short', 'GHSTUSDT']             rsi1  "
      ]
     },
     "execution_count": 7,
     "metadata": {},
     "output_type": "execute_result"
    }
   ],
   "source": [
    "tweet_data.head()"
   ]
  },
  {
   "cell_type": "code",
   "execution_count": 8,
   "id": "09cbd0dc",
   "metadata": {},
   "outputs": [],
   "source": [
    "tweet_data = tweet_data.drop_duplicates(subset = [\"text\"])\n",
    "tweet_data = tweet_data.dropna(subset = [\"text\"])"
   ]
  },
  {
   "cell_type": "code",
   "execution_count": 9,
   "id": "050eec25",
   "metadata": {},
   "outputs": [],
   "source": [
    "def convert_to_text(dataframe):\n",
    "    text = \"\"\n",
    "    for i in dataframe['text']:\n",
    "        text = text+i\n",
    "    return text"
   ]
  },
  {
   "cell_type": "code",
   "execution_count": 10,
   "id": "9afaef52",
   "metadata": {},
   "outputs": [],
   "source": [
    "text = convert_to_text(tweet_data)"
   ]
  },
  {
   "cell_type": "code",
   "execution_count": 11,
   "id": "2332b73b",
   "metadata": {},
   "outputs": [],
   "source": [
    "def remove_links(text):\n",
    "    result = re.sub(r'http\\S+', '', text, flags=re.MULTILINE)\n",
    "    return text\n",
    "#source https://stackoverflow.com/questions/11331982/how-to-remove-any-url-within-a-string-in-python"
   ]
  },
  {
   "cell_type": "code",
   "execution_count": 12,
   "id": "6976548f",
   "metadata": {},
   "outputs": [],
   "source": [
    "text = remove_links(text)"
   ]
  },
  {
   "cell_type": "code",
   "execution_count": 13,
   "id": "cfd37087",
   "metadata": {},
   "outputs": [],
   "source": [
    "def remove_specialwords(text):\n",
    "    filteredText=re.sub('[^A-Za-z0-9.]+', ' ',text)\n",
    "    return filteredText\n",
    "#source https://medium.com/@maheshpardeshi002/removing-special-characters-or-tags-from-text-in-data-pre-processing-using-python-5fa62f886956"
   ]
  },
  {
   "cell_type": "code",
   "execution_count": 14,
   "id": "db8bd8e8",
   "metadata": {},
   "outputs": [],
   "source": [
    "text = remove_specialwords(text)"
   ]
  },
  {
   "cell_type": "code",
   "execution_count": 15,
   "id": "f3a1c7aa",
   "metadata": {},
   "outputs": [],
   "source": [
    "def word_tokenizer(text):\n",
    "    tokens = word_tokenize(text)\n",
    "    return tokens\n",
    "tokens = word_tokenize(text)\n",
    "def remove_stopwords(tokens):\n",
    "    stop_words = set(stopwords.words('english'))\n",
    "    filtered_tokens = [w for w in tokens if not w.lower() in stop_words]\n",
    "    return filtered_tokens\n",
    "tokens = remove_stopwords(tokens)\n",
    "def stemming(tokens):\n",
    "    ps = PorterStemmer()\n",
    "    stemmed_tokens = [ps.stem(words_sent) for words_sent in tokens]\n",
    "    return stemmed_tokens\n",
    "def lemmetization(tokens):\n",
    "    lemmatizer = WordNetLemmatizer()\n",
    "    lem_sent = [lemmatizer.lemmatize(words_sent) for words_sent in tokens]\n",
    "    return lem_sent\n",
    "def remove_punct(token):\n",
    "     return [word for word in token if word.isalpha()]\n",
    "tokens = remove_punct(tokens)"
   ]
  },
  {
   "cell_type": "code",
   "execution_count": 16,
   "id": "18b397a6",
   "metadata": {},
   "outputs": [],
   "source": [
    "tokens = stemming(tokens)"
   ]
  },
  {
   "cell_type": "code",
   "execution_count": 17,
   "id": "c41fc5c1",
   "metadata": {},
   "outputs": [],
   "source": [
    "tokens = lemmetization(tokens)"
   ]
  },
  {
   "cell_type": "code",
   "execution_count": 18,
   "id": "063c421a",
   "metadata": {},
   "outputs": [],
   "source": [
    "def bigrams(tokens):\n",
    "    bi_grams = ngrams(tokens , 2)\n",
    "    return list(bi_grams)"
   ]
  },
  {
   "cell_type": "code",
   "execution_count": 19,
   "id": "00503bc0",
   "metadata": {},
   "outputs": [],
   "source": [
    "def trigrams(tokens):\n",
    "    tri_grams = ngrams(tokens , 3)\n",
    "    return list(tri_grams)"
   ]
  },
  {
   "cell_type": "code",
   "execution_count": 20,
   "id": "128efca9",
   "metadata": {},
   "outputs": [],
   "source": [
    "bi_grams = bigrams(tokens)\n",
    "tri_grams = trigrams(tokens)"
   ]
  },
  {
   "cell_type": "code",
   "execution_count": null,
   "id": "af2f38b8",
   "metadata": {},
   "outputs": [],
   "source": []
  },
  {
   "cell_type": "code",
   "execution_count": 21,
   "id": "51f30e5c",
   "metadata": {},
   "outputs": [],
   "source": [
    "def bigrams_analysis(bi_grams):\n",
    "    count_bigrams = FreqDist(bi_grams)\n",
    "    dic_bigrams = dict(Counter(count_bigrams))\n",
    "    return dic_bigrams  "
   ]
  },
  {
   "cell_type": "code",
   "execution_count": 22,
   "id": "f9217e04",
   "metadata": {},
   "outputs": [],
   "source": [
    "def trigrams_analysis(tri_grams):\n",
    "    count_trigrams = FreqDist(tri_grams)\n",
    "    dic_trigrams = dict(Counter(count_trigrams))\n",
    "    return dic_trigrams"
   ]
  },
  {
   "cell_type": "code",
   "execution_count": 23,
   "id": "8dc2996e",
   "metadata": {},
   "outputs": [],
   "source": [
    "bigrams_count = bigrams_analysis(bi_grams)\n",
    "trigrams_count = trigrams_analysis(tri_grams)"
   ]
  },
  {
   "cell_type": "code",
   "execution_count": 24,
   "id": "b711eabd",
   "metadata": {},
   "outputs": [],
   "source": [
    "def bigrams_analysis(bigrams):\n",
    "    n = len(bigrams)\n",
    "    bigrams_list = list(bigrams.items())\n",
    "    swapped = False\n",
    "    for i in range(n-1):\n",
    "        for j in range(0, n-i-1):\n",
    "            if bigrams_list[j][1] < bigrams_list[j + 1][1]:\n",
    "                swapped = True\n",
    "                bigrams_list[j], bigrams_list[j+1] = bigrams_list[j+1] , bigrams_list[j]         \n",
    "        if not swapped:\n",
    "            return\n",
    "    common_bigrams = []\n",
    "    common_bigrams_count = []\n",
    "    for i in range(10):\n",
    "        common_bigrams.append(str(bigrams_list[i][0]))\n",
    "        common_bigrams_count.append(bigrams_list[i][1])\n",
    "    \n",
    "    plt.bar(common_bigrams, common_bigrams_count, color = \"blue\" , width = 0.5)"
   ]
  },
  {
   "cell_type": "code",
   "execution_count": 25,
   "id": "1faa739e",
   "metadata": {},
   "outputs": [],
   "source": [
    "def trigrams_analysis(trigrams):\n",
    "    n = len(trigrams)\n",
    "    trigrams_list = list(trigrams.items())\n",
    "    swapped = False\n",
    "    for i in range(n-1):\n",
    "        for j in range(0, n-i-1):\n",
    "            if trigrams_list[j][1] < trigrams_list[j + 1][1]:\n",
    "                swapped = True\n",
    "                trigrams_list[j], trigrams_list[j+1] = trigrams_list[j+1] , trigrams_list[j]         \n",
    "        if not swapped:\n",
    "            return\n",
    "    common_trigrams = []\n",
    "    common_trigrams_count = []\n",
    "    for i in range(10):\n",
    "        common_trigrams.append(str(trigrams_list[i][0]))\n",
    "        common_trigrams_count.append(trigrams_list[i][1])\n",
    "    \n",
    "    plt.bar(common_trigrams, common_trigrams_count, color = \"blue\" , width = 0.5)"
   ]
  },
  {
   "cell_type": "code",
   "execution_count": 26,
   "id": "8cb83634",
   "metadata": {},
   "outputs": [
    {
     "data": {
      "image/png": "[encoded data removed]",
      "text/plain": [
       "<Figure size 640x480 with 1 Axes>"
      ]
     },
     "metadata": {},
     "output_type": "display_data"
    }
   ],
   "source": [
    "bigrams_analysis(bigrams_count)"
   ]
  },
  {
   "cell_type": "code",
   "execution_count": 27,
   "id": "89b7978b",
   "metadata": {},
   "outputs": [
    {
     "data": {
      "image/png": "[encoded data removed]",
      "text/plain": [
       "<Figure size 640x480 with 1 Axes>"
      ]
     },
     "metadata": {},
     "output_type": "display_data"
    }
   ],
   "source": [
    "trigrams_analysis(trigrams_count)"
   ]
  },
  {
   "cell_type": "code",
   "execution_count": 28,
   "id": "cc4c8216",
   "metadata": {},
   "outputs": [],
   "source": [
    "def word_cloud(final_text):\n",
    "    final_words=\" \".join(str(x) for x in final_text)\n",
    "    wc = WordCloud(background_color=\"white\",max_words=200,width=800, height=400).generate(final_words)\n",
    "    plt.imshow(wc, interpolation='bilinear')\n",
    "    plt.axis(\"off\")\n",
    "    plt.show()"
   ]
  },
  {
   "cell_type": "code",
   "execution_count": 29,
   "id": "4f8e32d5",
   "metadata": {},
   "outputs": [
    {
     "data": {
      "image/png": "[encoded data removed]",
      "text/plain": [
       "<Figure size 640x480 with 1 Axes>"
      ]
     },
     "metadata": {},
     "output_type": "display_data"
    }
   ],
   "source": [
    "word_cloud(text)"
   ]
  },
  {
   "cell_type": "code",
   "execution_count": null,
   "id": "c280dcb5",
   "metadata": {},
   "outputs": [],
   "source": []
  },
  {
   "cell_type": "code",
   "execution_count": 30,
   "id": "bba0aa02",
   "metadata": {},
   "outputs": [],
   "source": [
    "roberta = \"cardiffnlp/twitter-roberta-base-sentiment\"\n",
    "\n",
    "model = AutoModelForSequenceClassification.from_pretrained(roberta)\n",
    "tokenizer = AutoTokenizer.from_pretrained(roberta)\n",
    "\n",
    "labels = ['Negative', 'Neutral', 'Positive']"
   ]
  },
  {
   "cell_type": "code",
   "execution_count": 31,
   "id": "572f3477",
   "metadata": {},
   "outputs": [],
   "source": [
    "sentiments_roberta = []\n",
    "for i in tweet_data[\"text\"]:\n",
    "    tweet = i\n",
    "    tweet = remove_links(tweet)\n",
    "    tweet = remove_specialwords(tweet)\n",
    "    encoded_tweet = tokenizer(tweet, return_tensors='pt')\n",
    "    output = model(**encoded_tweet)\n",
    "    scores = output[0][0].detach().numpy()\n",
    "    scores = softmax(scores)\n",
    "    negative = scores[0]\n",
    "    positive = scores[1]\n",
    "    neutral = scores[2]\n",
    "    label = \"\"\n",
    "    if negative > positive and negative > neutral:\n",
    "        label = \"negative\"\n",
    "    elif positive > negative and positive > neutral:\n",
    "        label = \"positive\"\n",
    "    elif neutral > positive and neutral > negative:\n",
    "        label = \"neutral\"\n",
    "    sentiments_roberta.append(label)\n",
    "    \n"
   ]
  },
  {
   "cell_type": "code",
   "execution_count": 32,
   "id": "2ee95361",
   "metadata": {},
   "outputs": [],
   "source": [
    "sentiments_textblob = []\n",
    "for i in tweet_data[\"text\"]:\n",
    "    tweet = i\n",
    "    tweet = remove_links(tweet)\n",
    "    tweet = remove_specialwords(tweet)\n",
    "    analysis = TextBlob(tweet)\n",
    "    \n",
    "    if analysis.sentiment[0]>0:\n",
    "        label = \"positive\"\n",
    "    elif analysis.sentiment[0]<0:\n",
    "        label = \"negative\"\n",
    "    else:\n",
    "        label = \"neutral\"\n",
    "    sentiments_textblob.append(label)"
   ]
  },
  {
   "cell_type": "code",
   "execution_count": 33,
   "id": "8368672b",
   "metadata": {},
   "outputs": [],
   "source": [
    "final_sentiments = []\n",
    "for i in range(len(sentiments_roberta)):\n",
    "    if sentiments_roberta[i] == sentiments_textblob[i]:\n",
    "        final_sentiments.append(sentiments_textblob[i])\n",
    "    else:\n",
    "        final_sentiments.append(sentiments_roberta[i])\n",
    "    "
   ]
  },
  {
   "cell_type": "code",
   "execution_count": 34,
   "id": "6c34d58f",
   "metadata": {},
   "outputs": [],
   "source": [
    "tweet_data.insert(12, \"Sentiment\" , final_sentiments ,True)"
   ]
  },
  {
   "cell_type": "code",
   "execution_count": 36,
   "id": "ac014903",
   "metadata": {},
   "outputs": [
    {
     "data": {
      "text/html": [
       "<div>\n",
       "<style scoped>\n",
       "    .dataframe tbody tr th:only-of-type {\n",
       "        vertical-align: middle;\n",
       "    }\n",
       "\n",
       "    .dataframe tbody tr th {\n",
       "        vertical-align: top;\n",
       "    }\n",
       "\n",
       "    .dataframe thead th {\n",
       "        text-align: right;\n",
       "    }\n",
       "</style>\n",
       "<table border=\"1\" class=\"dataframe\">\n",
       "  <thead>\n",
       "    <tr style=\"text-align: right;\">\n",
       "      <th></th>\n",
       "      <th>user_name</th>\n",
       "      <th>text</th>\n",
       "      <th>user_location</th>\n",
       "      <th>user_description</th>\n",
       "      <th>user_created</th>\n",
       "      <th>user_followers</th>\n",
       "      <th>user_friends</th>\n",
       "      <th>user_favourites</th>\n",
       "      <th>user_verified</th>\n",
       "      <th>date</th>\n",
       "      <th>hashtags</th>\n",
       "      <th>source</th>\n",
       "      <th>Sentiment</th>\n",
       "    </tr>\n",
       "  </thead>\n",
       "  <tbody>\n",
       "    <tr>\n",
       "      <th>0</th>\n",
       "      <td>Bohmle</td>\n",
       "      <td>#GPT4 for FREE. \n",
       "No its not a clickbait, @Qola...</td>\n",
       "      <td>Carkingga</td>\n",
       "      <td>&lt;NA&gt;</td>\n",
       "      <td>&lt;NA&gt;</td>\n",
       "      <td>&lt;NA&gt;</td>\n",
       "      <td>&lt;NA&gt;</td>\n",
       "      <td>&lt;NA&gt;</td>\n",
       "      <td>&lt;NA&gt;</td>\n",
       "      <td>&lt;NA&gt;</td>\n",
       "      <td>&lt;NA&gt;</td>\n",
       "      <td>&lt;NA&gt;</td>\n",
       "      <td>neutral</td>\n",
       "    </tr>\n",
       "    <tr>\n",
       "      <th>1</th>\n",
       "      <td>&lt;NA&gt;</td>\n",
       "      <td>AI enthusiast</td>\n",
       "      <td>2019-07-03 03:44:41+00:00</td>\n",
       "      <td>60.0</td>\n",
       "      <td>349.0</td>\n",
       "      <td>611</td>\n",
       "      <td>False</td>\n",
       "      <td>2023-05-17 18:11:12+00:00</td>\n",
       "      <td>['GPT4', 'ChatGPT4']</td>\n",
       "      <td>Twitter Web App</td>\n",
       "      <td>&lt;NA&gt;</td>\n",
       "      <td>&lt;NA&gt;</td>\n",
       "      <td>positive</td>\n",
       "    </tr>\n",
       "    <tr>\n",
       "      <th>2</th>\n",
       "      <td>Dan Bruno AI</td>\n",
       "      <td>ChatGPT Thinks These 5 Crypto Coins Will Explo...</td>\n",
       "      <td>Manchester, NH</td>\n",
       "      <td>The latest in #ChatGPT, #BARD, #Bing, and othe...</td>\n",
       "      <td>2021-05-19 01:19:32+00:00</td>\n",
       "      <td>470.0</td>\n",
       "      <td>157.0</td>\n",
       "      <td>5185</td>\n",
       "      <td>False</td>\n",
       "      <td>2023-05-17 18:11:03+00:00</td>\n",
       "      <td>['chatgpt', 'AI', 'openAI']</td>\n",
       "      <td>dlvr.it</td>\n",
       "      <td>neutral</td>\n",
       "    </tr>\n",
       "    <tr>\n",
       "      <th>3</th>\n",
       "      <td>Georgiana Comsa</td>\n",
       "      <td>New: @JWVance's post about 5 #startups (includ...</td>\n",
       "      <td>Palo Alto</td>\n",
       "      <td>Founder of Silicon Valley PR, award-winning PR...</td>\n",
       "      <td>2008-12-24 09:32:23+00:00</td>\n",
       "      <td>3864.0</td>\n",
       "      <td>1883.0</td>\n",
       "      <td>2415</td>\n",
       "      <td>False</td>\n",
       "      <td>2023-05-17 18:10:25+00:00</td>\n",
       "      <td>['startups', 'startup50']</td>\n",
       "      <td>Twitter Web App</td>\n",
       "      <td>neutral</td>\n",
       "    </tr>\n",
       "    <tr>\n",
       "      <th>4</th>\n",
       "      <td>Bitone Great</td>\n",
       "      <td>🚨Get Out!🚨\n",
       "💰#Binance Spot💰\n",
       "⬇ Recommendation: #...</td>\n",
       "      <td>Hong Kong</td>\n",
       "      <td>#ChatGPT (AI) powered Free Trading Signal! \n",
       "Le...</td>\n",
       "      <td>2022-11-21 04:42:18+00:00</td>\n",
       "      <td>1517.0</td>\n",
       "      <td>506.0</td>\n",
       "      <td>64</td>\n",
       "      <td>False</td>\n",
       "      <td>2023-05-17 18:09:39+00:00</td>\n",
       "      <td>['Binance', 'Short', 'GHSTUSDT']</td>\n",
       "      <td>rsi1</td>\n",
       "      <td>positive</td>\n",
       "    </tr>\n",
       "    <tr>\n",
       "      <th>...</th>\n",
       "      <td>...</td>\n",
       "      <td>...</td>\n",
       "      <td>...</td>\n",
       "      <td>...</td>\n",
       "      <td>...</td>\n",
       "      <td>...</td>\n",
       "      <td>...</td>\n",
       "      <td>...</td>\n",
       "      <td>...</td>\n",
       "      <td>...</td>\n",
       "      <td>...</td>\n",
       "      <td>...</td>\n",
       "      <td>...</td>\n",
       "    </tr>\n",
       "    <tr>\n",
       "      <th>691</th>\n",
       "      <td>Savvas Learning</td>\n",
       "      <td>Join Bryan Zevotek @BaldSci for two fabulous s...</td>\n",
       "      <td>Paramus, NJ</td>\n",
       "      <td>Savvas Learning Company is a next-generation e...</td>\n",
       "      <td>2009-06-02 17:13:13+00:00</td>\n",
       "      <td>16420.0</td>\n",
       "      <td>8975.0</td>\n",
       "      <td>6436</td>\n",
       "      <td>False</td>\n",
       "      <td>2023-05-17 15:14:23+00:00</td>\n",
       "      <td>&lt;NA&gt;</td>\n",
       "      <td>Hootsuite Inc.</td>\n",
       "      <td>neutral</td>\n",
       "    </tr>\n",
       "    <tr>\n",
       "      <th>692</th>\n",
       "      <td>Shyam Arvadia</td>\n",
       "      <td>Has anyone else noticed that GPT - 4 has becom...</td>\n",
       "      <td>Manhattan, NY</td>\n",
       "      <td>Grad student at NYU. Trying to find the next b...</td>\n",
       "      <td>2019-04-18 07:08:08+00:00</td>\n",
       "      <td>69.0</td>\n",
       "      <td>153.0</td>\n",
       "      <td>84</td>\n",
       "      <td>False</td>\n",
       "      <td>2023-05-17 15:14:00+00:00</td>\n",
       "      <td>['ai', 'ChatGPT', 'OPENAI']</td>\n",
       "      <td>Twitter for iPhone</td>\n",
       "      <td>negative</td>\n",
       "    </tr>\n",
       "    <tr>\n",
       "      <th>693</th>\n",
       "      <td>Global Big Data Conference</td>\n",
       "      <td>Sam Altman calls for ‘incredible scrutiny’ of ...</td>\n",
       "      <td>Santa Clara, CA</td>\n",
       "      <td>GLOBAL ARTIFICIAL INTELLIGENCE CONFERENCE\n",
       "Sep ...</td>\n",
       "      <td>2012-11-25 06:59:28+00:00</td>\n",
       "      <td>7947.0</td>\n",
       "      <td>4179.0</td>\n",
       "      <td>161</td>\n",
       "      <td>False</td>\n",
       "      <td>2023-05-17 15:13:44+00:00</td>\n",
       "      <td>&lt;NA&gt;</td>\n",
       "      <td>Twitter Web App</td>\n",
       "      <td>neutral</td>\n",
       "    </tr>\n",
       "    <tr>\n",
       "      <th>694</th>\n",
       "      <td>Torkild Smith</td>\n",
       "      <td>🌟 Enhance your business with cutting-edge AI t...</td>\n",
       "      <td>Manchester, UK</td>\n",
       "      <td>Adopting an Innovative Data-Driven Strategy to...</td>\n",
       "      <td>2010-03-12 09:22:27+00:00</td>\n",
       "      <td>3052.0</td>\n",
       "      <td>4041.0</td>\n",
       "      <td>2187</td>\n",
       "      <td>False</td>\n",
       "      <td>2023-05-17 15:13:03+00:00</td>\n",
       "      <td>['ChatGPT']</td>\n",
       "      <td>Yuhanito</td>\n",
       "      <td>neutral</td>\n",
       "    </tr>\n",
       "    <tr>\n",
       "      <th>695</th>\n",
       "      <td>Webcafe AI</td>\n",
       "      <td>Banish tech woes with ChatGPT's troubleshootin...</td>\n",
       "      <td>San Francisco</td>\n",
       "      <td>💬 Discover the power of ChatGPT for automation...</td>\n",
       "      <td>2022-11-22 05:28:44+00:00</td>\n",
       "      <td>150.0</td>\n",
       "      <td>6.0</td>\n",
       "      <td>4</td>\n",
       "      <td>False</td>\n",
       "      <td>2023-05-17 15:12:30+00:00</td>\n",
       "      <td>&lt;NA&gt;</td>\n",
       "      <td>Zapier.com</td>\n",
       "      <td>positive</td>\n",
       "    </tr>\n",
       "  </tbody>\n",
       "</table>\n",
       "<p>692 rows × 13 columns</p>\n",
       "</div>"
      ],
      "text/plain": [
       "                      user_name  \\\n",
       "0                        Bohmle   \n",
       "1                          <NA>   \n",
       "2                  Dan Bruno AI   \n",
       "3               Georgiana Comsa   \n",
       "4                  Bitone Great   \n",
       "..                          ...   \n",
       "691             Savvas Learning   \n",
       "692               Shyam Arvadia   \n",
       "693  Global Big Data Conference   \n",
       "694               Torkild Smith   \n",
       "695                  Webcafe AI   \n",
       "\n",
       "                                                  text  \\\n",
       "0    #GPT4 for FREE. \n",
       "No its not a clickbait, @Qola...   \n",
       "1                                        AI enthusiast   \n",
       "2    ChatGPT Thinks These 5 Crypto Coins Will Explo...   \n",
       "3    New: @JWVance's post about 5 #startups (includ...   \n",
       "4    🚨Get Out!🚨\n",
       "💰#Binance Spot💰\n",
       "⬇ Recommendation: #...   \n",
       "..                                                 ...   \n",
       "691  Join Bryan Zevotek @BaldSci for two fabulous s...   \n",
       "692  Has anyone else noticed that GPT - 4 has becom...   \n",
       "693  Sam Altman calls for ‘incredible scrutiny’ of ...   \n",
       "694  🌟 Enhance your business with cutting-edge AI t...   \n",
       "695  Banish tech woes with ChatGPT's troubleshootin...   \n",
       "\n",
       "                 user_location  \\\n",
       "0                    Carkingga   \n",
       "1    2019-07-03 03:44:41+00:00   \n",
       "2               Manchester, NH   \n",
       "3                    Palo Alto   \n",
       "4                    Hong Kong   \n",
       "..                         ...   \n",
       "691                Paramus, NJ   \n",
       "692              Manhattan, NY   \n",
       "693            Santa Clara, CA   \n",
       "694             Manchester, UK   \n",
       "695              San Francisco   \n",
       "\n",
       "                                      user_description  \\\n",
       "0                                                 <NA>   \n",
       "1                                                 60.0   \n",
       "2    The latest in #ChatGPT, #BARD, #Bing, and othe...   \n",
       "3    Founder of Silicon Valley PR, award-winning PR...   \n",
       "4    #ChatGPT (AI) powered Free Trading Signal! \n",
       "Le...   \n",
       "..                                                 ...   \n",
       "691  Savvas Learning Company is a next-generation e...   \n",
       "692  Grad student at NYU. Trying to find the next b...   \n",
       "693  GLOBAL ARTIFICIAL INTELLIGENCE CONFERENCE\n",
       "Sep ...   \n",
       "694  Adopting an Innovative Data-Driven Strategy to...   \n",
       "695  💬 Discover the power of ChatGPT for automation...   \n",
       "\n",
       "                  user_created user_followers user_friends  \\\n",
       "0                         <NA>           <NA>         <NA>   \n",
       "1                        349.0            611        False   \n",
       "2    2021-05-19 01:19:32+00:00          470.0        157.0   \n",
       "3    2008-12-24 09:32:23+00:00         3864.0       1883.0   \n",
       "4    2022-11-21 04:42:18+00:00         1517.0        506.0   \n",
       "..                         ...            ...          ...   \n",
       "691  2009-06-02 17:13:13+00:00        16420.0       8975.0   \n",
       "692  2019-04-18 07:08:08+00:00           69.0        153.0   \n",
       "693  2012-11-25 06:59:28+00:00         7947.0       4179.0   \n",
       "694  2010-03-12 09:22:27+00:00         3052.0       4041.0   \n",
       "695  2022-11-22 05:28:44+00:00          150.0          6.0   \n",
       "\n",
       "               user_favourites         user_verified  \\\n",
       "0                         <NA>                  <NA>   \n",
       "1    2023-05-17 18:11:12+00:00  ['GPT4', 'ChatGPT4']   \n",
       "2                         5185                 False   \n",
       "3                         2415                 False   \n",
       "4                           64                 False   \n",
       "..                         ...                   ...   \n",
       "691                       6436                 False   \n",
       "692                         84                 False   \n",
       "693                        161                 False   \n",
       "694                       2187                 False   \n",
       "695                          4                 False   \n",
       "\n",
       "                          date                          hashtags  \\\n",
       "0                         <NA>                              <NA>   \n",
       "1              Twitter Web App                              <NA>   \n",
       "2    2023-05-17 18:11:03+00:00       ['chatgpt', 'AI', 'openAI']   \n",
       "3    2023-05-17 18:10:25+00:00         ['startups', 'startup50']   \n",
       "4    2023-05-17 18:09:39+00:00  ['Binance', 'Short', 'GHSTUSDT']   \n",
       "..                         ...                               ...   \n",
       "691  2023-05-17 15:14:23+00:00                              <NA>   \n",
       "692  2023-05-17 15:14:00+00:00       ['ai', 'ChatGPT', 'OPENAI']   \n",
       "693  2023-05-17 15:13:44+00:00                              <NA>   \n",
       "694  2023-05-17 15:13:03+00:00                       ['ChatGPT']   \n",
       "695  2023-05-17 15:12:30+00:00                              <NA>   \n",
       "\n",
       "                 source Sentiment  \n",
       "0                  <NA>   neutral  \n",
       "1                  <NA>  positive  \n",
       "2               dlvr.it   neutral  \n",
       "3       Twitter Web App   neutral  \n",
       "4                  rsi1  positive  \n",
       "..                  ...       ...  \n",
       "691      Hootsuite Inc.   neutral  \n",
       "692  Twitter for iPhone  negative  \n",
       "693     Twitter Web App   neutral  \n",
       "694            Yuhanito   neutral  \n",
       "695          Zapier.com  positive  \n",
       "\n",
       "[692 rows x 13 columns]"
      ]
     },
     "execution_count": 36,
     "metadata": {},
     "output_type": "execute_result"
    }
   ],
   "source": [
    "tweet_data"
   ]
  },
  {
   "cell_type": "code",
   "execution_count": 35,
   "id": "88d8024a",
   "metadata": {},
   "outputs": [
    {
     "name": "stdout",
     "output_type": "stream",
     "text": [
      "number of words :  12327\n"
     ]
    }
   ],
   "source": [
    "count_words = len(tokens)\n",
    "print(\"number of words : \" , count_words)"
   ]
  },
  {
   "cell_type": "code",
   "execution_count": 37,
   "id": "eff07221",
   "metadata": {},
   "outputs": [],
   "source": [
    "def check_space(string):\n",
    "    count = 0\n",
    "    for i in range(0, len(string)):\n",
    "        if string[i] == \" \":\n",
    "            count += 1\n",
    "    return count\n",
    "count_spaces = check_space(text)"
   ]
  },
  {
   "cell_type": "code",
   "execution_count": 40,
   "id": "0b2e2b99",
   "metadata": {},
   "outputs": [
    {
     "name": "stdout",
     "output_type": "stream",
     "text": [
      "Number of spaces:  20136\n"
     ]
    }
   ],
   "source": [
    "print(\"Number of spaces: \",count_spaces)"
   ]
  },
  {
   "cell_type": "code",
   "execution_count": 39,
   "id": "5828fc9f",
   "metadata": {},
   "outputs": [
    {
     "name": "stdout",
     "output_type": "stream",
     "text": [
      "number of characters are :  132561\n"
     ]
    }
   ],
   "source": [
    "count_characters = len(text)\n",
    "print(\"number of characters are : \" , count_characters)"
   ]
  },
  {
   "cell_type": "code",
   "execution_count": 54,
   "id": "98f398c9",
   "metadata": {},
   "outputs": [],
   "source": [
    "def verb_finder(tokens):\n",
    "    tokens_tagges = pos_tag(tokens)\n",
    "    verb_count = 0\n",
    "    for tagged_token in tokens_tagged:\n",
    "        if tagged_token[1] == 'VB' or tagged_token[1] == 'VBD' or tagged_token[1] == 'VBG' or tagged_token[1] == 'VBN' or tagged_token[1] == 'VBP' or tagged_token[1] == 'VBZ':\n",
    "            verb_count +=1\n",
    "    return verb_count"
   ]
  },
  {
   "cell_type": "code",
   "execution_count": 55,
   "id": "8ce51049",
   "metadata": {},
   "outputs": [
    {
     "ename": "NameError",
     "evalue": "name 'tokens_tagged' is not defined",
     "output_type": "error",
     "traceback": [
      "\u001b[0;31m---------------------------------------------------------------------------\u001b[0m",
      "\u001b[0;31mNameError\u001b[0m                                 Traceback (most recent call last)",
      "Input \u001b[0;32mIn [55]\u001b[0m, in \u001b[0;36m<cell line: 1>\u001b[0;34m()\u001b[0m\n\u001b[0;32m----> 1\u001b[0m count_verbs \u001b[38;5;241m=\u001b[39m \u001b[43mverb_finder\u001b[49m\u001b[43m(\u001b[49m\u001b[43mtokens\u001b[49m\u001b[43m)\u001b[49m\n\u001b[1;32m      2\u001b[0m \u001b[38;5;28mprint\u001b[39m(\u001b[38;5;124m\"\u001b[39m\u001b[38;5;124mThe total number of verbs are : \u001b[39m\u001b[38;5;124m\"\u001b[39m , count_verbs)\n",
      "Input \u001b[0;32mIn [54]\u001b[0m, in \u001b[0;36mverb_finder\u001b[0;34m(tokens)\u001b[0m\n\u001b[1;32m      2\u001b[0m tokens_tagges \u001b[38;5;241m=\u001b[39m pos_tag(tokens)\n\u001b[1;32m      3\u001b[0m verb_count \u001b[38;5;241m=\u001b[39m \u001b[38;5;241m0\u001b[39m\n\u001b[0;32m----> 4\u001b[0m \u001b[38;5;28;01mfor\u001b[39;00m tagged_token \u001b[38;5;129;01min\u001b[39;00m \u001b[43mtokens_tagged\u001b[49m:\n\u001b[1;32m      5\u001b[0m     \u001b[38;5;28;01mif\u001b[39;00m tagged_token[\u001b[38;5;241m1\u001b[39m] \u001b[38;5;241m==\u001b[39m \u001b[38;5;124m'\u001b[39m\u001b[38;5;124mVB\u001b[39m\u001b[38;5;124m'\u001b[39m \u001b[38;5;129;01mor\u001b[39;00m tagged_token[\u001b[38;5;241m1\u001b[39m] \u001b[38;5;241m==\u001b[39m \u001b[38;5;124m'\u001b[39m\u001b[38;5;124mVBD\u001b[39m\u001b[38;5;124m'\u001b[39m \u001b[38;5;129;01mor\u001b[39;00m tagged_token[\u001b[38;5;241m1\u001b[39m] \u001b[38;5;241m==\u001b[39m \u001b[38;5;124m'\u001b[39m\u001b[38;5;124mVBG\u001b[39m\u001b[38;5;124m'\u001b[39m \u001b[38;5;129;01mor\u001b[39;00m tagged_token[\u001b[38;5;241m1\u001b[39m] \u001b[38;5;241m==\u001b[39m \u001b[38;5;124m'\u001b[39m\u001b[38;5;124mVBN\u001b[39m\u001b[38;5;124m'\u001b[39m \u001b[38;5;129;01mor\u001b[39;00m tagged_token[\u001b[38;5;241m1\u001b[39m] \u001b[38;5;241m==\u001b[39m \u001b[38;5;124m'\u001b[39m\u001b[38;5;124mVBP\u001b[39m\u001b[38;5;124m'\u001b[39m \u001b[38;5;129;01mor\u001b[39;00m tagged_token[\u001b[38;5;241m1\u001b[39m] \u001b[38;5;241m==\u001b[39m \u001b[38;5;124m'\u001b[39m\u001b[38;5;124mVBZ\u001b[39m\u001b[38;5;124m'\u001b[39m:\n\u001b[1;32m      6\u001b[0m         verb_count \u001b[38;5;241m+\u001b[39m\u001b[38;5;241m=\u001b[39m\u001b[38;5;241m1\u001b[39m\n",
      "\u001b[0;31mNameError\u001b[0m: name 'tokens_tagged' is not defined"
     ]
    }
   ],
   "source": [
    "count_verbs = verb_finder(tokens)\n",
    "print(\"The total number of verbs are : \" , count_verbs)"
   ]
  },
  {
   "cell_type": "code",
   "execution_count": 47,
   "id": "9e42cc38",
   "metadata": {},
   "outputs": [],
   "source": [
    "def starts_with_nameletter(tokens):\n",
    "    count = 0\n",
    "    for item in tokens:\n",
    "        if item.startswith(\"M\") or item.startswith(\"m\"):\n",
    "            count += 1\n",
    "    return count"
   ]
  },
  {
   "cell_type": "code",
   "execution_count": 49,
   "id": "93f21e59",
   "metadata": {},
   "outputs": [
    {
     "name": "stdout",
     "output_type": "stream",
     "text": [
      "words starting with M are :  540\n"
     ]
    }
   ],
   "source": [
    "count_A = starts_with_nameletter(tokens)\n",
    "print(\"words starting with M are : \", count_A)"
   ]
  },
  {
   "cell_type": "code",
   "execution_count": 50,
   "id": "cd64cdc0",
   "metadata": {},
   "outputs": [],
   "source": [
    "sent_tokens = sent_tokenize(text)"
   ]
  },
  {
   "cell_type": "code",
   "execution_count": 51,
   "id": "8252e89a",
   "metadata": {},
   "outputs": [
    {
     "name": "stdout",
     "output_type": "stream",
     "text": [
      "number of sentence tokens are :  542\n"
     ]
    }
   ],
   "source": [
    "count_sentence_tokens = len(sent_tokens)\n",
    "print(\"number of sentence tokens are : \" , count_sentence_tokens)"
   ]
  },
  {
   "cell_type": "code",
   "execution_count": 52,
   "id": "791e67b7",
   "metadata": {},
   "outputs": [
    {
     "name": "stdout",
     "output_type": "stream",
     "text": [
      "number of special characters are :  1491\n"
     ]
    }
   ],
   "source": [
    "specialCharCount = 0\n",
    "for char in text:\n",
    "    if not (char.isalnum() or char.isspace()):\n",
    "        specialCharCount += 1\n",
    "print(\"number of special characters are : \" , specialCharCount)"
   ]
  },
  {
   "cell_type": "code",
   "execution_count": 56,
   "id": "8f5aa7a6",
   "metadata": {},
   "outputs": [],
   "source": [
    "data = [count_sentence_tokens, count_words, count_spaces, count_characters, count_A, specialCharCount]"
   ]
  },
  {
   "cell_type": "code",
   "execution_count": 57,
   "id": "f506b61c",
   "metadata": {},
   "outputs": [],
   "source": [
    "features_list = [\"sentence length\" , \"word count\" , \"space count\" , \"char count\"  , \"name count\" , \"special char count\"]"
   ]
  },
  {
   "cell_type": "code",
   "execution_count": 58,
   "id": "aa853ce3",
   "metadata": {},
   "outputs": [],
   "source": [
    "data_ = {\n",
    "    \"Features\" : features_list,\n",
    "    \"Count\" : data\n",
    "}"
   ]
  },
  {
   "cell_type": "code",
   "execution_count": 59,
   "id": "fad282a3",
   "metadata": {},
   "outputs": [],
   "source": [
    "#I have excluded verbs"
   ]
  },
  {
   "cell_type": "code",
   "execution_count": 60,
   "id": "fe2e0e57",
   "metadata": {},
   "outputs": [],
   "source": [
    "features = pd.DataFrame(data_)"
   ]
  },
  {
   "cell_type": "code",
   "execution_count": 61,
   "id": "eb9b7e52",
   "metadata": {},
   "outputs": [
    {
     "data": {
      "text/html": [
       "<div>\n",
       "<style scoped>\n",
       "    .dataframe tbody tr th:only-of-type {\n",
       "        vertical-align: middle;\n",
       "    }\n",
       "\n",
       "    .dataframe tbody tr th {\n",
       "        vertical-align: top;\n",
       "    }\n",
       "\n",
       "    .dataframe thead th {\n",
       "        text-align: right;\n",
       "    }\n",
       "</style>\n",
       "<table border=\"1\" class=\"dataframe\">\n",
       "  <thead>\n",
       "    <tr style=\"text-align: right;\">\n",
       "      <th></th>\n",
       "      <th>Features</th>\n",
       "      <th>Count</th>\n",
       "    </tr>\n",
       "  </thead>\n",
       "  <tbody>\n",
       "    <tr>\n",
       "      <th>0</th>\n",
       "      <td>sentence length</td>\n",
       "      <td>542</td>\n",
       "    </tr>\n",
       "    <tr>\n",
       "      <th>1</th>\n",
       "      <td>word count</td>\n",
       "      <td>12327</td>\n",
       "    </tr>\n",
       "    <tr>\n",
       "      <th>2</th>\n",
       "      <td>space count</td>\n",
       "      <td>20136</td>\n",
       "    </tr>\n",
       "    <tr>\n",
       "      <th>3</th>\n",
       "      <td>char count</td>\n",
       "      <td>132561</td>\n",
       "    </tr>\n",
       "    <tr>\n",
       "      <th>4</th>\n",
       "      <td>name count</td>\n",
       "      <td>540</td>\n",
       "    </tr>\n",
       "    <tr>\n",
       "      <th>5</th>\n",
       "      <td>special char count</td>\n",
       "      <td>1491</td>\n",
       "    </tr>\n",
       "  </tbody>\n",
       "</table>\n",
       "</div>"
      ],
      "text/plain": [
       "             Features   Count\n",
       "0     sentence length     542\n",
       "1          word count   12327\n",
       "2         space count   20136\n",
       "3          char count  132561\n",
       "4          name count     540\n",
       "5  special char count    1491"
      ]
     },
     "execution_count": 61,
     "metadata": {},
     "output_type": "execute_result"
    }
   ],
   "source": [
    "features"
   ]
  },
  {
   "cell_type": "code",
   "execution_count": 62,
   "id": "0816edaa",
   "metadata": {},
   "outputs": [],
   "source": [
    "tfIdf_vectorizer = TfidfVectorizer()"
   ]
  },
  {
   "cell_type": "code",
   "execution_count": 63,
   "id": "18b752c1",
   "metadata": {},
   "outputs": [
    {
     "ename": "ValueError",
     "evalue": "Iterable over raw text documents expected, string object received.",
     "output_type": "error",
     "traceback": [
      "\u001b[0;31m---------------------------------------------------------------------------\u001b[0m",
      "\u001b[0;31mValueError\u001b[0m                                Traceback (most recent call last)",
      "Input \u001b[0;32mIn [63]\u001b[0m, in \u001b[0;36m<cell line: 1>\u001b[0;34m()\u001b[0m\n\u001b[0;32m----> 1\u001b[0m \u001b[43mtfIdf_vectorizer\u001b[49m\u001b[38;5;241;43m.\u001b[39;49m\u001b[43mfit\u001b[49m\u001b[43m(\u001b[49m\u001b[43mtext\u001b[49m\u001b[43m)\u001b[49m\n",
      "File \u001b[0;32m/opt/anaconda3/lib/python3.9/site-packages/sklearn/feature_extraction/text.py:2048\u001b[0m, in \u001b[0;36mTfidfVectorizer.fit\u001b[0;34m(self, raw_documents, y)\u001b[0m\n\u001b[1;32m   2041\u001b[0m \u001b[38;5;28mself\u001b[39m\u001b[38;5;241m.\u001b[39m_warn_for_unused_params()\n\u001b[1;32m   2042\u001b[0m \u001b[38;5;28mself\u001b[39m\u001b[38;5;241m.\u001b[39m_tfidf \u001b[38;5;241m=\u001b[39m TfidfTransformer(\n\u001b[1;32m   2043\u001b[0m     norm\u001b[38;5;241m=\u001b[39m\u001b[38;5;28mself\u001b[39m\u001b[38;5;241m.\u001b[39mnorm,\n\u001b[1;32m   2044\u001b[0m     use_idf\u001b[38;5;241m=\u001b[39m\u001b[38;5;28mself\u001b[39m\u001b[38;5;241m.\u001b[39muse_idf,\n\u001b[1;32m   2045\u001b[0m     smooth_idf\u001b[38;5;241m=\u001b[39m\u001b[38;5;28mself\u001b[39m\u001b[38;5;241m.\u001b[39msmooth_idf,\n\u001b[1;32m   2046\u001b[0m     sublinear_tf\u001b[38;5;241m=\u001b[39m\u001b[38;5;28mself\u001b[39m\u001b[38;5;241m.\u001b[39msublinear_tf,\n\u001b[1;32m   2047\u001b[0m )\n\u001b[0;32m-> 2048\u001b[0m X \u001b[38;5;241m=\u001b[39m \u001b[38;5;28;43msuper\u001b[39;49m\u001b[43m(\u001b[49m\u001b[43m)\u001b[49m\u001b[38;5;241;43m.\u001b[39;49m\u001b[43mfit_transform\u001b[49m\u001b[43m(\u001b[49m\u001b[43mraw_documents\u001b[49m\u001b[43m)\u001b[49m\n\u001b[1;32m   2049\u001b[0m \u001b[38;5;28mself\u001b[39m\u001b[38;5;241m.\u001b[39m_tfidf\u001b[38;5;241m.\u001b[39mfit(X)\n\u001b[1;32m   2050\u001b[0m \u001b[38;5;28;01mreturn\u001b[39;00m \u001b[38;5;28mself\u001b[39m\n",
      "File \u001b[0;32m/opt/anaconda3/lib/python3.9/site-packages/sklearn/feature_extraction/text.py:1317\u001b[0m, in \u001b[0;36mCountVectorizer.fit_transform\u001b[0;34m(self, raw_documents, y)\u001b[0m\n\u001b[1;32m   1313\u001b[0m \u001b[38;5;66;03m# We intentionally don't call the transform method to make\u001b[39;00m\n\u001b[1;32m   1314\u001b[0m \u001b[38;5;66;03m# fit_transform overridable without unwanted side effects in\u001b[39;00m\n\u001b[1;32m   1315\u001b[0m \u001b[38;5;66;03m# TfidfVectorizer.\u001b[39;00m\n\u001b[1;32m   1316\u001b[0m \u001b[38;5;28;01mif\u001b[39;00m \u001b[38;5;28misinstance\u001b[39m(raw_documents, \u001b[38;5;28mstr\u001b[39m):\n\u001b[0;32m-> 1317\u001b[0m     \u001b[38;5;28;01mraise\u001b[39;00m \u001b[38;5;167;01mValueError\u001b[39;00m(\n\u001b[1;32m   1318\u001b[0m         \u001b[38;5;124m\"\u001b[39m\u001b[38;5;124mIterable over raw text documents expected, string object received.\u001b[39m\u001b[38;5;124m\"\u001b[39m\n\u001b[1;32m   1319\u001b[0m     )\n\u001b[1;32m   1321\u001b[0m \u001b[38;5;28mself\u001b[39m\u001b[38;5;241m.\u001b[39m_validate_params()\n\u001b[1;32m   1322\u001b[0m \u001b[38;5;28mself\u001b[39m\u001b[38;5;241m.\u001b[39m_validate_vocabulary()\n",
      "\u001b[0;31mValueError\u001b[0m: Iterable over raw text documents expected, string object received."
     ]
    }
   ],
   "source": [
    "tfIdf_vectorizer.fit(text)"
   ]
  },
  {
   "cell_type": "code",
   "execution_count": null,
   "id": "ab26855c",
   "metadata": {},
   "outputs": [],
   "source": []
  }
 ],
 "metadata": {
  "kernelspec": {
   "display_name": "Python 3 (ipykernel)",
   "language": "python",
   "name": "python3"
  },
  "language_info": {
   "codemirror_mode": {
    "name": "ipython",
    "version": 3
   },
   "file_extension": ".py",
   "mimetype": "text/x-python",
   "name": "python",
   "nbconvert_exporter": "python",
   "pygments_lexer": "ipython3",
   "version": "3.9.16"
  }
 },
 "nbformat": 4,
 "nbformat_minor": 5
}
